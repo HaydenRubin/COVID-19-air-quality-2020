{
 "cells": [
  {
   "cell_type": "code",
   "execution_count": 87,
   "metadata": {},
   "outputs": [],
   "source": [
    "import pandas as pd\n",
    "import numpy as np"
   ]
  },
  {
   "cell_type": "code",
   "execution_count": 88,
   "metadata": {},
   "outputs": [],
   "source": [
    "wuhan_original=pd.read_csv(\"../cities_datasets/wuhan-air-quality.csv\")\n",
    "delhi_original=pd.read_csv(\"../cities_datasets/delhi-air-quality.csv\")\n",
    "rome_original=pd.read_csv(\"../cities_datasets/rome-air-quality.csv\")\n",
    "diepkloof_original=pd.read_csv(\"../cities_datasets/diepkloof-air-quality.csv\")"
   ]
  },
  {
   "cell_type": "code",
   "execution_count": 89,
   "metadata": {},
   "outputs": [],
   "source": [
    "#data captrued untill 07/21/2020\n",
    "#wuhan: January 23rd-April 8th\n",
    "#delhi: March 23rd-May 31st\n",
    "#rome: March 9th-May 18th\n",
    "#diepkloof: March 26th-April 30th"
   ]
  },
  {
   "cell_type": "code",
   "execution_count": 90,
   "metadata": {},
   "outputs": [
    {
     "name": "stderr",
     "output_type": "stream",
     "text": [
      "/Users/xiaoyuezhu/anaconda3/lib/python3.7/site-packages/ipykernel_launcher.py:15: SettingWithCopyWarning: \n",
      "A value is trying to be set on a copy of a slice from a DataFrame.\n",
      "Try using .loc[row_indexer,col_indexer] = value instead\n",
      "\n",
      "See the caveats in the documentation: https://pandas.pydata.org/pandas-docs/stable/user_guide/indexing.html#returning-a-view-versus-a-copy\n",
      "  from ipykernel import kernelapp as app\n"
     ]
    }
   ],
   "source": [
    "#Converting the 'data' column to datatype: datetime\n",
    "wuhan_original['date'] = pd.to_datetime(wuhan_original['date'])\n",
    "wuhan_df=wuhan_original.loc[wuhan_original['date']>='2019-01-01',:]\n",
    "\n",
    "#original file has extra space on column names\n",
    "wuhan_df2=wuhan_df.rename(columns={' pm25': 'pm25',' pm10':'pm10',' o3':'o3',' no2':'no2',' so2':'so2',' co':'co'})\n",
    "\n",
    "    \n",
    "#found \"empty\" values are actully a string with a space\n",
    "wuhan1=wuhan_df2.replace(to_replace=' ',value=np.nan)\n",
    "wuhan_final=wuhan1.dropna()\n",
    "\n",
    "#converting the pollutant columns from string to int\n",
    "for i in range (1,len(wuhan_final.columns)):\n",
    "    wuhan_final[wuhan_final.columns[i]]=wuhan_final[wuhan_final.columns[i]].astype(int)\n",
    "\n",
    "#The max of pollutant as the AQI of that date\n",
    "wuhanAQI=wuhan_final.assign(AQI=wuhan_final.max(axis=1))\n",
    "wuhanAQI.sort_values(by=['date'])\n",
    "wuhanAQI.to_csv(\"../CleanDatasets/wuhan_AQI.csv\",index=False)"
   ]
  },
  {
   "cell_type": "code",
   "execution_count": 95,
   "metadata": {},
   "outputs": [
    {
     "data": {
      "text/html": [
       "<div>\n",
       "<style scoped>\n",
       "    .dataframe tbody tr th:only-of-type {\n",
       "        vertical-align: middle;\n",
       "    }\n",
       "\n",
       "    .dataframe tbody tr th {\n",
       "        vertical-align: top;\n",
       "    }\n",
       "\n",
       "    .dataframe thead th {\n",
       "        text-align: right;\n",
       "    }\n",
       "</style>\n",
       "<table border=\"1\" class=\"dataframe\">\n",
       "  <thead>\n",
       "    <tr style=\"text-align: right;\">\n",
       "      <th></th>\n",
       "      <th>date</th>\n",
       "      <th>pm25</th>\n",
       "      <th>pm10</th>\n",
       "      <th>o3</th>\n",
       "      <th>no2</th>\n",
       "      <th>so2</th>\n",
       "      <th>co</th>\n",
       "    </tr>\n",
       "  </thead>\n",
       "  <tbody>\n",
       "    <tr>\n",
       "      <th>0</th>\n",
       "      <td>2020-07-02</td>\n",
       "      <td>30</td>\n",
       "      <td>18</td>\n",
       "      <td>NaN</td>\n",
       "      <td>18</td>\n",
       "      <td>NaN</td>\n",
       "      <td>NaN</td>\n",
       "    </tr>\n",
       "    <tr>\n",
       "      <th>1</th>\n",
       "      <td>2020-07-03</td>\n",
       "      <td>46</td>\n",
       "      <td>16</td>\n",
       "      <td>NaN</td>\n",
       "      <td>7</td>\n",
       "      <td>NaN</td>\n",
       "      <td>NaN</td>\n",
       "    </tr>\n",
       "    <tr>\n",
       "      <th>2</th>\n",
       "      <td>2020-07-04</td>\n",
       "      <td>46</td>\n",
       "      <td>8</td>\n",
       "      <td>NaN</td>\n",
       "      <td>4</td>\n",
       "      <td>NaN</td>\n",
       "      <td>NaN</td>\n",
       "    </tr>\n",
       "    <tr>\n",
       "      <th>3</th>\n",
       "      <td>2020-07-05</td>\n",
       "      <td>25</td>\n",
       "      <td>10</td>\n",
       "      <td>NaN</td>\n",
       "      <td>6</td>\n",
       "      <td>NaN</td>\n",
       "      <td>NaN</td>\n",
       "    </tr>\n",
       "    <tr>\n",
       "      <th>4</th>\n",
       "      <td>2020-07-06</td>\n",
       "      <td>38</td>\n",
       "      <td>14</td>\n",
       "      <td>NaN</td>\n",
       "      <td>19</td>\n",
       "      <td>NaN</td>\n",
       "      <td>NaN</td>\n",
       "    </tr>\n",
       "    <tr>\n",
       "      <th>...</th>\n",
       "      <td>...</td>\n",
       "      <td>...</td>\n",
       "      <td>...</td>\n",
       "      <td>...</td>\n",
       "      <td>...</td>\n",
       "      <td>...</td>\n",
       "      <td>...</td>\n",
       "    </tr>\n",
       "    <tr>\n",
       "      <th>1282</th>\n",
       "      <td>2020-01-06</td>\n",
       "      <td>NaN</td>\n",
       "      <td>NaN</td>\n",
       "      <td>NaN</td>\n",
       "      <td>30</td>\n",
       "      <td>NaN</td>\n",
       "      <td>NaN</td>\n",
       "    </tr>\n",
       "    <tr>\n",
       "      <th>1283</th>\n",
       "      <td>2020-01-07</td>\n",
       "      <td>NaN</td>\n",
       "      <td>NaN</td>\n",
       "      <td>NaN</td>\n",
       "      <td>43</td>\n",
       "      <td>NaN</td>\n",
       "      <td>NaN</td>\n",
       "    </tr>\n",
       "    <tr>\n",
       "      <th>1284</th>\n",
       "      <td>2019-12-05</td>\n",
       "      <td>NaN</td>\n",
       "      <td>NaN</td>\n",
       "      <td>NaN</td>\n",
       "      <td>30</td>\n",
       "      <td>NaN</td>\n",
       "      <td>NaN</td>\n",
       "    </tr>\n",
       "    <tr>\n",
       "      <th>1285</th>\n",
       "      <td>2019-12-06</td>\n",
       "      <td>NaN</td>\n",
       "      <td>NaN</td>\n",
       "      <td>NaN</td>\n",
       "      <td>34</td>\n",
       "      <td>NaN</td>\n",
       "      <td>NaN</td>\n",
       "    </tr>\n",
       "    <tr>\n",
       "      <th>1290</th>\n",
       "      <td>2020-01-01</td>\n",
       "      <td>NaN</td>\n",
       "      <td>NaN</td>\n",
       "      <td>NaN</td>\n",
       "      <td>NaN</td>\n",
       "      <td>NaN</td>\n",
       "      <td>NaN</td>\n",
       "    </tr>\n",
       "  </tbody>\n",
       "</table>\n",
       "<p>261 rows × 7 columns</p>\n",
       "</div>"
      ],
      "text/plain": [
       "           date  pm25  pm10   o3  no2   so2   co\n",
       "0    2020-07-02    30    18  NaN   18   NaN  NaN\n",
       "1    2020-07-03    46    16  NaN    7   NaN  NaN\n",
       "2    2020-07-04    46     8  NaN    4   NaN  NaN\n",
       "3    2020-07-05    25    10  NaN    6   NaN  NaN\n",
       "4    2020-07-06    38    14  NaN   19   NaN  NaN\n",
       "...         ...   ...   ...  ...  ...   ...  ...\n",
       "1282 2020-01-06   NaN   NaN  NaN   30   NaN  NaN\n",
       "1283 2020-01-07   NaN   NaN  NaN   43   NaN  NaN\n",
       "1284 2019-12-05   NaN   NaN  NaN   30   NaN  NaN\n",
       "1285 2019-12-06   NaN   NaN  NaN   34   NaN  NaN\n",
       "1290 2020-01-01   NaN   NaN  NaN  NaN   NaN  NaN\n",
       "\n",
       "[261 rows x 7 columns]"
      ]
     },
     "execution_count": 95,
     "metadata": {},
     "output_type": "execute_result"
    }
   ],
   "source": [
    "rome_original['date'] = pd.to_datetime(rome_original['date'])\n",
    "rome_df=rome_original.loc[rome_original['date']>='2019-11-01',:]\n",
    "rome1=rome_df.replace(to_replace=' ',value=np.nan)\n",
    "rome_final=rome1.dropna()\n",
    "rome_final.to_csv(\"../CleanDatasets/rome_final.csv\")\n",
    "rome1"
   ]
  },
  {
   "cell_type": "code",
   "execution_count": 92,
   "metadata": {},
   "outputs": [
    {
     "data": {
      "text/plain": [
       "date     261\n",
       " pm25    241\n",
       " pm10    220\n",
       " o3        0\n",
       " no2     246\n",
       " so2       0\n",
       " co        0\n",
       "dtype: int64"
      ]
     },
     "execution_count": 92,
     "metadata": {},
     "output_type": "execute_result"
    }
   ],
   "source": [
    "rome1.count()"
   ]
  },
  {
   "cell_type": "code",
   "execution_count": 93,
   "metadata": {},
   "outputs": [
    {
     "name": "stderr",
     "output_type": "stream",
     "text": [
      "/Users/xiaoyuezhu/anaconda3/lib/python3.7/site-packages/ipykernel_launcher.py:15: SettingWithCopyWarning: \n",
      "A value is trying to be set on a copy of a slice from a DataFrame.\n",
      "Try using .loc[row_indexer,col_indexer] = value instead\n",
      "\n",
      "See the caveats in the documentation: https://pandas.pydata.org/pandas-docs/stable/user_guide/indexing.html#returning-a-view-versus-a-copy\n",
      "  from ipykernel import kernelapp as app\n"
     ]
    },
    {
     "data": {
      "text/plain": [
       "date    datetime64[ns]\n",
       "pm25             int64\n",
       "pm10             int64\n",
       "o3               int64\n",
       "no2              int64\n",
       "so2              int64\n",
       "co               int64\n",
       "AQI              int64\n",
       "dtype: object"
      ]
     },
     "execution_count": 93,
     "metadata": {},
     "output_type": "execute_result"
    }
   ],
   "source": [
    "#Converting the 'data' column to datatype: datetime\n",
    "delhi_original['date'] = pd.to_datetime(delhi_original['date'])\n",
    "delhi_df=delhi_original.loc[delhi_original['date']>='2019-01-01',:]\n",
    "\n",
    "#original file has extra space on column names\n",
    "delhi_df2=delhi_df.rename(columns={' pm25': 'pm25',' pm10':'pm10',' o3':'o3',' no2':'no2',' so2':'so2',' co':'co'})\n",
    "\n",
    "    \n",
    "#found \"empty\" values are actully a string with a space\n",
    "delhi1=delhi_df2.replace(to_replace=' ',value=np.nan)\n",
    "delhi_final=delhi1.dropna()\n",
    "\n",
    "#converting the pollutant columns from string to int\n",
    "for i in range (1,len(delhi_final.columns)):\n",
    "    delhi_final[delhi_final.columns[i]]=delhi_final[delhi_final.columns[i]].astype(int)\n",
    "\n",
    "#The max of pollutant as the AQI of that date\n",
    "delhiAQI=delhi_final.assign(AQI=delhi_final.max(axis=1))\n",
    "delhiAQI.sort_values(by=['date'])\n",
    "delhiAQI.to_csv(\"../CleanDatasets/delhi_AQI.csv\",index=False)\n",
    "delhiAQI.dtypes"
   ]
  },
  {
   "cell_type": "code",
   "execution_count": 94,
   "metadata": {},
   "outputs": [
    {
     "name": "stderr",
     "output_type": "stream",
     "text": [
      "/Users/xiaoyuezhu/anaconda3/lib/python3.7/site-packages/ipykernel_launcher.py:15: SettingWithCopyWarning: \n",
      "A value is trying to be set on a copy of a slice from a DataFrame.\n",
      "Try using .loc[row_indexer,col_indexer] = value instead\n",
      "\n",
      "See the caveats in the documentation: https://pandas.pydata.org/pandas-docs/stable/user_guide/indexing.html#returning-a-view-versus-a-copy\n",
      "  from ipykernel import kernelapp as app\n"
     ]
    }
   ],
   "source": [
    "#Converting the 'data' column to datatype: datetime\n",
    "diepkloof_original['date'] = pd.to_datetime(diepkloof_original['date'])\n",
    "diepkloof_df=diepkloof_original.loc[diepkloof_original['date']>='2019-01-01',:]\n",
    "\n",
    "#original file has extra space on column names\n",
    "diepkloof_df2=diepkloof_df.rename(columns={' pm25': 'pm25',' pm10':'pm10',' o3':'o3',' no2':'no2',' so2':'so2',' co':'co'})\n",
    "\n",
    "    \n",
    "#found \"empty\" values are actully a string with a space\n",
    "diepkloof1=diepkloof_df2.replace(to_replace=' ',value=np.nan)\n",
    "diepkloof_final=diepkloof1.dropna()\n",
    "\n",
    "#converting the pollutant columns from string to int\n",
    "for i in range (1,len(diepkloof_final.columns)):\n",
    "    diepkloof_final[diepkloof_final.columns[i]]=diepkloof_final[diepkloof_final.columns[i]].astype(int)\n",
    "\n",
    "#The max of pollutant as the AQI of that date\n",
    "diepkloofAQI=diepkloof_final.assign(AQI=diepkloof_final.max(axis=1))\n",
    "diepkloofAQI.sort_values(by=['date'])\n",
    "diepkloofAQI.to_csv(\"../CleanDatasets/diepkloof_AQI.csv\",index=False)\n"
   ]
  },
  {
   "cell_type": "code",
   "execution_count": null,
   "metadata": {},
   "outputs": [],
   "source": []
  }
 ],
 "metadata": {
  "kernelspec": {
   "display_name": "Python 3",
   "language": "python",
   "name": "python3"
  },
  "language_info": {
   "codemirror_mode": {
    "name": "ipython",
    "version": 3
   },
   "file_extension": ".py",
   "mimetype": "text/x-python",
   "name": "python",
   "nbconvert_exporter": "python",
   "pygments_lexer": "ipython3",
   "version": "3.7.6"
  }
 },
 "nbformat": 4,
 "nbformat_minor": 4
}
